{
 "cells": [
  {
   "cell_type": "code",
   "execution_count": 1,
   "metadata": {},
   "outputs": [
    {
     "data": {
      "application/javascript": [
       "\n",
       "require(['notebook/js/codecell'], function(codecell) {\n",
       "  codecell.CodeCell.options_default.highlight_modes[\n",
       "      'magic_text/x-csrc'] = {'reg':[/^%%microblaze/]};\n",
       "  Jupyter.notebook.events.one('kernel_ready.Kernel', function(){\n",
       "      Jupyter.notebook.get_cells().map(function(cell){\n",
       "          if (cell.cell_type == 'code'){ cell.auto_highlight(); } }) ;\n",
       "  });\n",
       "});\n"
      ]
     },
     "metadata": {},
     "output_type": "display_data"
    }
   ],
   "source": [
    "from pynq import Overlay\n",
    "from pynq import MMIO\n",
    "import numpy as np\n",
    "import time\n",
    "\n",
    "ol=Overlay(\"layerAll.bit\")\n",
    "mmio=MMIO(0x43C00000,0x10000)\n",
    "\n",
    "coloursBaseAddress= 0x040\n",
    "orderBaseAddress = 0x200\n",
    "moveArrayBaseAddress = 0x100"
   ]
  },
  {
   "cell_type": "code",
   "execution_count": 6,
   "metadata": {},
   "outputs": [],
   "source": [
    "moves= []\n",
    "\n",
    "def move_val_to_str (move_val):\n",
    "    if(move_val==0):\n",
    "        moves.append(\"U\")\n",
    "    elif(move_val==1):\n",
    "        moves.append(\"U'\")\n",
    "    elif(move_val==2):\n",
    "        moves.append(\"D\")\n",
    "    elif(move_val==3):\n",
    "        moves.append(\"D'\")\n",
    "    elif(move_val==4):\n",
    "        moves.append(\"B\")\n",
    "    elif(move_val==5):\n",
    "        moves.append(\"B'\")\n",
    "    elif(move_val==6):\n",
    "        moves.append(\"F\")\n",
    "    elif(move_val==7):\n",
    "        moves.append(\"F'\")\n",
    "    elif(move_val==8):\n",
    "        moves.append(\"L\")\n",
    "    elif(move_val==9):\n",
    "        moves.append(\"L'\")\n",
    "    elif(move_val==10):\n",
    "        moves.append(\"R\")\n",
    "    elif(move_val==11):\n",
    "        moves.append(\"R'\")\n",
    "    elif(move_val==12):\n",
    "        moves.append(\"H\")\n",
    "    elif(move_val==13):\n",
    "        moves.append(\"V\")\n",
    "    elif(move_val==14):\n",
    "        moves.append(\"H'\")\n",
    "    elif(move_val==15):\n",
    "        moves.append(\"V'\")\n",
    "    else:\n",
    "        print(\"error in converting move value to string\")\n",
    "\n",
    "def move_hex_to_str (move_hex):\n",
    "    move_val_to_str(move_hex & 0xff) \n",
    "    move_val_to_str(move_hex >> 8 & 0xff)\n",
    "    move_val_to_str(move_hex >> 16 & 0xff)\n",
    "    move_val_to_str(move_hex >> 24 & 0xff)\n",
    "    \n",
    "def col_ord(colour):\n",
    "    if(colour == \"W\"):\n",
    "        return 0\n",
    "    elif (colour==\"Y\"):\n",
    "        return 1\n",
    "    elif (colour==\"O\"):\n",
    "        return 2\n",
    "    elif (colour==\"R\"):\n",
    "        return 3\n",
    "    elif (colour==\"G\"):\n",
    "        return 4\n",
    "    elif (colour==\"B\"):\n",
    "        return 5\n",
    "    else:\n",
    "        print (\"error in converting colour to num\")\n",
    "\n",
    "def solve (colours):\n",
    "    for i in np.arange(0,52,4):\n",
    "        coloursMem = col_ord(colours[i]) + (col_ord(colours[i+1])<< 8) + (col_ord(colours[i+2])<< 16) +(col_ord(colours[i+3])<< 24)\n",
    "        mmio.write(coloursBaseAddress+ i ,coloursMem)\n",
    "    coloursMem= col_ord(colours[52]) +(col_ord(colours[53])<< 8)\n",
    "    mmio.write(coloursBaseAddress+ 52 ,coloursMem)\n",
    "    mmio.write(0x000,1)\n",
    "    start_time = time.time()\n",
    "    while ((mmio.read(0x000)& 0x2)!=2):\n",
    "        pass\n",
    "    elapsed_time = time.time() - start_time\n",
    "    \n",
    "    order= mmio.read(orderBaseAddress)\n",
    "    i =0\n",
    "    while( i<order):   \n",
    "        move_hex = mmio.read(moveArrayBaseAddress+i)\n",
    "        move_hex_to_str (move_hex)\n",
    "        i=i+4\n",
    "    print(\"Total number of moves are %d\" %order)\n",
    "    print(\"elapsed time is \", elapsed_time)\n",
    "    print(moves[0:order])\n"
   ]
  },
  {
   "cell_type": "code",
   "execution_count": 7,
   "metadata": {},
   "outputs": [
    {
     "name": "stdout",
     "output_type": "stream",
     "text": [
      "Total number of moves are 165\n",
      "elapsed time is  0.0002663135528564453\n",
      "[\"F'\", 'D', 'R', 'R', 'F', \"R'\", 'U', \"F'\", \"U'\", 'H', 'R', 'R', 'H', 'B', 'B', \"D'\", 'R', 'R', 'H', 'D', 'D', 'R', 'R', \"R'\", \"D'\", 'R', 'H', 'D', 'D', \"R'\", \"D'\", 'R', 'D', \"R'\", \"D'\", 'R', 'D', \"R'\", \"D'\", 'R', 'D', 'H', 'H', 'H', \"R'\", \"D'\", 'R', 'H', 'H', \"D'\", \"R'\", \"D'\", 'R', 'D', \"R'\", \"D'\", 'R', 'D', \"R'\", \"D'\", 'R', 'D', 'H', \"R'\", \"D'\", 'R', 'D', 'H', \"D'\", \"R'\", \"D'\", 'R', 'D', 'H', 'V', 'V', 'H', \"U'\", \"L'\", 'U', 'L', 'U', 'F', \"U'\", \"F'\", 'H', \"U'\", \"U'\", \"L'\", 'U', 'L', 'U', 'F', \"U'\", \"F'\", 'H', 'U', \"L'\", 'U', 'L', 'U', 'F', \"U'\", \"F'\", 'H', \"L'\", 'U', 'L', 'U', 'F', \"U'\", \"F'\", 'H', 'F', 'R', 'U', \"R'\", \"U'\", \"F'\", 'R', 'U', \"R'\", 'U', 'R', 'U', 'U', \"R'\", \"R'\", 'F', \"R'\", 'B', 'B', 'R', \"F'\", \"R'\", 'B', 'B', 'R', 'R', 'H', \"R'\", 'F', \"R'\", 'B', 'B', 'R', \"F'\", \"R'\", 'B', 'B', 'R', 'R', \"U'\", 'F', 'F', \"U'\", 'L', \"R'\", 'F', 'F', \"L'\", 'R', \"U'\", 'F', 'F']\n",
      "Total number of moves are 3\n",
      "elapsed time is  3.910064697265625e-05\n",
      "[\"F'\", 'D', 'R']\n",
      "Total number of moves are 157\n",
      "elapsed time is  0.0002837181091308594\n",
      "[\"F'\", 'D', 'R', 'R', 'F', \"R'\", 'U', \"F'\", \"U'\", 'H', 'R', 'R', 'H', 'B', 'B', \"D'\", 'R', 'R', 'H', 'D', 'D', 'R', 'R', \"R'\", \"D'\", 'R', 'H', 'D', 'D', \"R'\", \"D'\", 'R', 'D', \"R'\", \"D'\", 'R', 'D', \"R'\", \"D'\", 'R', 'D', 'H', 'H', 'H', \"R'\", \"D'\", 'R', 'H', 'H', \"D'\", \"R'\", \"D'\", 'R', 'D', \"R'\", \"D'\", 'R', 'D', \"R'\", \"D'\", 'R', 'D', 'H', \"R'\", \"D'\", 'R', 'D', 'H', \"D'\", \"R'\", \"D'\", 'R', 'D', 'H', 'V', 'V', 'H', \"U'\", \"L'\", 'U', 'L', 'U', 'F', \"U'\", \"F'\", 'H', \"U'\", \"U'\", \"L'\", 'U', 'L', 'U', 'F', \"U'\", \"F'\", 'H', 'U', \"L'\", 'U', 'L', 'U', 'F', \"U'\", \"F'\", 'H', \"L'\", 'U', 'L', 'U', 'F', \"U'\", \"F'\", 'H', 'F', 'R', 'U', \"R'\", \"U'\", \"F'\", 'R', 'U', \"R'\", 'U', 'R', 'U', 'U', \"R'\", \"R'\", 'F', \"R'\", 'B', 'B', 'R', \"F'\", \"R'\", 'B', 'B', 'R', 'R', 'H', \"R'\", 'F', \"R'\", 'B', 'B', 'R', \"F'\", \"R'\", 'B', 'B', 'R', 'R', \"U'\", 'F', 'F', \"U'\", 'L']\n",
      "Total number of moves are 192\n",
      "elapsed time is  0.0005669593811035156\n",
      "[\"F'\", 'D', 'R', 'R', 'F', \"R'\", 'U', \"F'\", \"U'\", 'H', 'R', 'R', 'H', 'B', 'B', \"D'\", 'R', 'R', 'H', 'D', 'D', 'R', 'R', \"R'\", \"D'\", 'R', 'H', 'D', 'D', \"R'\", \"D'\", 'R', 'D', \"R'\", \"D'\", 'R', 'D', \"R'\", \"D'\", 'R', 'D', 'H', 'H', 'H', \"R'\", \"D'\", 'R', 'H', 'H', \"D'\", \"R'\", \"D'\", 'R', 'D', \"R'\", \"D'\", 'R', 'D', \"R'\", \"D'\", 'R', 'D', 'H', \"R'\", \"D'\", 'R', 'D', 'H', \"D'\", \"R'\", \"D'\", 'R', 'D', 'H', 'V', 'V', 'H', \"U'\", \"L'\", 'U', 'L', 'U', 'F', \"U'\", \"F'\", 'H', \"U'\", \"U'\", \"L'\", 'U', 'L', 'U', 'F', \"U'\", \"F'\", 'H', 'U', \"L'\", 'U', 'L', 'U', 'F', \"U'\", \"F'\", 'H', \"L'\", 'U', 'L', 'U', 'F', \"U'\", \"F'\", 'H', 'F', 'R', 'U', \"R'\", \"U'\", \"F'\", 'R', 'U', \"R'\", 'U', 'R', 'U', 'U', \"R'\", \"R'\", 'F', \"R'\", 'B', 'B', 'R', \"F'\", \"R'\", 'B', 'B', 'R', 'R', 'H', \"R'\", 'F', \"R'\", 'B', 'B', 'R', \"F'\", \"R'\", 'B', 'B', 'R', 'R', \"U'\", 'F', 'F', \"U'\", 'L', \"R'\", 'F', 'F', \"L'\", 'R', \"U'\", 'F', 'F', \"R'\", 'H', 'R', 'V', 'V', 'H', 'R', 'D', 'R', 'U', \"F'\", \"U'\", 'H', 'D', 'R', 'U', \"F'\", \"U'\", 'H', 'B', 'B', \"D'\", 'R', 'U', \"F'\", \"U'\", 'H']\n"
     ]
    }
   ],
   "source": [
    "solve(\"RBBGWOWWOYRWYYWYWBRYGYOGYROOGGWROBBRYOBRGBGRRWYWBBGGOO\")\n",
    "solve(\"WWWWWWWWWYYYYYYYYYOOOOOOOOORRRRRRRRRGGGGGGGGGBBBBBBBBB\")\n",
    "solve(\"GGGOWOGGGBBBRYRBBBYYYOOOYYYWWWRRRWWWRGRYGYRGROBOWBWOBO\")\n",
    "solve(\"WRGRWORBGBGGYYBRGWYYBWOGRRYBWWRRWYOWOBYYGWGBOOYOOBGROB\")"
   ]
  },
  {
   "cell_type": "code",
   "execution_count": 21,
   "metadata": {},
   "outputs": [
    {
     "name": "stdout",
     "output_type": "stream",
     "text": [
      "Total number of moves are 3\n",
      "['V', 'V', 'H']\n"
     ]
    }
   ],
   "source": [
    "cubieColor= [\n",
    "[ \"W\",\"W\",\"W\",\"W\",\"W\",\"W\",\"W\",\"W\",\"W\" ], \n",
    "[ \"Y\",\"Y\",\"Y\",\"Y\",\"Y\",\"Y\",\"Y\",\"Y\",\"Y\" ], \n",
    "[ \"O\",\"O\",\"O\",\"O\",\"O\",\"O\",\"O\",\"O\",\"O\" ], \n",
    "[ \"R\",\"R\",\"R\",\"R\",\"R\",\"R\",\"R\",\"R\",\"R\" ], \n",
    "[ \"G\",\"G\",\"G\",\"G\",\"G\",\"G\",\"G\",\"G\",\"G\" ], \n",
    "[ \"B\",\"B\",\"B\",\"B\",\"B\",\"B\",\"B\",\"B\",\"B\" ]  \n",
    "]\n",
    "\n",
    "print(\"Total number of moves are %d\" %order)\n",
    "print(moves[0:order])\n",
    "\n",
    "#still do not remove the move by \"H\" and \"V\" which is just cube's horizontal and vertical rotation\n",
    "#will be remove in later stage \n",
    "#actual move after delete \"H\" and \"V\" is 0"
   ]
  },
  {
   "cell_type": "code",
   "execution_count": 42,
   "metadata": {},
   "outputs": [
    {
     "name": "stdout",
     "output_type": "stream",
     "text": [
      "Total number of moves are 165\n",
      "[\"F'\", 'D', 'R', 'R', 'F', \"R'\", 'U', \"F'\", \"U'\", 'H', 'R', 'R', 'H', 'B', 'B', \"D'\", 'R', 'R', 'H', 'D', 'D', 'R', 'R', \"R'\", \"D'\", 'R', 'H', 'D', 'D', \"R'\", \"D'\", 'R', 'D', \"R'\", \"D'\", 'R', 'D', \"R'\", \"D'\", 'R', 'D', 'H', 'H', 'H', \"R'\", \"D'\", 'R', 'H', 'H', \"D'\", \"R'\", \"D'\", 'R', 'D', \"R'\", \"D'\", 'R', 'D', \"R'\", \"D'\", 'R', 'D', 'H', \"R'\", \"D'\", 'R', 'D', 'H', \"D'\", \"R'\", \"D'\", 'R', 'D', 'H', 'V', 'V', 'H', \"U'\", \"L'\", 'U', 'L', 'U', 'F', \"U'\", \"F'\", 'H', \"U'\", \"U'\", \"L'\", 'U', 'L', 'U', 'F', \"U'\", \"F'\", 'H', 'U', \"L'\", 'U', 'L', 'U', 'F', \"U'\", \"F'\", 'H', \"L'\", 'U', 'L', 'U', 'F', \"U'\", \"F'\", 'H', 'F', 'R', 'U', \"R'\", \"U'\", \"F'\", 'R', 'U', \"R'\", 'U', 'R', 'U', 'U', \"R'\", \"R'\", 'F', \"R'\", 'B', 'B', 'R', \"F'\", \"R'\", 'B', 'B', 'R', 'R', 'H', \"R'\", 'F', \"R'\", 'B', 'B', 'R', \"F'\", \"R'\", 'B', 'B', 'R', 'R', \"U'\", 'F', 'F', \"U'\", 'L', \"R'\", 'F', 'F', \"L'\", 'R', \"U'\", 'F', 'F']\n"
     ]
    }
   ],
   "source": [
    "cubieColor= [\n",
    "[ \"R\",\"B\",\"B\",\"G\",\"W\",\"O\",\"W\",\"W\",\"O\" ], \n",
    "[ \"Y\",\"R\",\"W\",\"Y\",\"Y\",\"W\",\"Y\",\"W\",\"B\" ], \n",
    "[ \"R\",\"Y\",\"G\",\"Y\",\"O\",\"G\",\"Y\",\"R\",\"O\" ], \n",
    "[ \"O\",\"G\",\"G\",\"W\",\"R\",\"O\",\"B\",\"B\",\"R\" ], \n",
    "[ \"Y\",\"O\",\"B\",\"R\",\"G\",\"B\",\"G\",\"R\",\"R\" ], \n",
    "[ \"W\",\"Y\",\"W\",\"B\",\"B\",\"G\",\"G\",\"O\",\"O\" ]  \n",
    "]\n",
    "\n",
    "print(\"Total number of moves are %d\" %order)\n",
    "print(moves[0:order])\n",
    "#actual move after delete \"H\" and \"V\" is 145"
   ]
  },
  {
   "cell_type": "code",
   "execution_count": 25,
   "metadata": {},
   "outputs": [
    {
     "name": "stdout",
     "output_type": "stream",
     "text": [
      "Total number of moves are 157\n",
      "['D', 'R', 'U', \"F'\", \"U'\", 'H', 'D', 'R', 'U', \"F'\", \"U'\", 'H', 'B', 'B', \"D'\", 'R', 'U', \"F'\", \"U'\", 'H', \"R'\", \"R'\", 'U', \"F'\", \"U'\", 'H', 'D', 'D', \"R'\", \"D'\", 'R', 'D', 'H', 'H', \"D'\", \"R'\", \"D'\", 'R', 'D', 'H', \"R'\", \"D'\", 'R', 'D', 'H', 'V', 'V', 'H', \"L'\", 'U', 'L', 'U', 'F', \"U'\", \"F'\", 'H', 'U', 'R', \"U'\", \"R'\", \"U'\", \"F'\", 'U', 'F', 'H', 'H', 'H', 'R', \"U'\", \"R'\", \"U'\", \"F'\", 'U', 'F', 'H', 'U', 'R', \"U'\", \"R'\", \"U'\", \"F'\", 'U', 'F', 'H', 'H', 'F', 'U', 'R', \"U'\", \"R'\", \"F'\", 'H', 'H', 'H', 'R', 'U', \"R'\", 'U', 'R', 'U', 'U', 'U', \"R'\", 'U', 'R', 'U', 'U', \"R'\", 'H', 'H', 'R', 'U', \"R'\", 'U', 'R', 'U', 'U', \"R'\", 'U', 'U', 'H', 'H', 'H', \"R'\", 'F', \"R'\", 'B', 'B', 'R', \"F'\", \"R'\", 'B', 'B', 'R', 'R', \"U'\", 'H', 'F', 'F', \"U'\", 'L', \"R'\", 'F', 'F', \"L'\", 'R', \"U'\", \"U'\", 'L', \"R'\", 'F', 'F', \"L'\", 'R', \"U'\", 'F', 'F']\n"
     ]
    }
   ],
   "source": [
    "cubieColor= [\n",
    "[ \"G\",\"G\",\"G\",\"O\",\"W\",\"O\",\"G\",\"G\",\"G\" ], \n",
    "[ \"B\",\"B\",\"B\",\"R\",\"Y\",\"R\",\"B\",\"B\",\"B\" ], \n",
    "[ \"Y\",\"Y\",\"Y\",\"O\",\"O\",\"O\",\"Y\",\"Y\",\"Y\" ], \n",
    "[ \"W\",\"W\",\"W\",\"R\",\"R\",\"R\",\"W\",\"W\",\"W\" ], \n",
    "[ \"R\",\"G\",\"R\",\"Y\",\"G\",\"Y\",\"R\",\"G\",\"R\" ], \n",
    "[ \"O\",\"B\",\"O\",\"W\",\"B\",\"W\",\"O\",\"B\",\"O\" ]  \n",
    "]\n",
    "\n",
    "print(\"Total number of moves are %d\" %order)\n",
    "print(moves[0:order])\n",
    "#actual move after delete \"H\" and \"V\" is 130"
   ]
  },
  {
   "cell_type": "code",
   "execution_count": 29,
   "metadata": {},
   "outputs": [
    {
     "name": "stdout",
     "output_type": "stream",
     "text": [
      "Total number of moves are 192\n",
      "['F', 'F', 'D', 'R', 'U', \"F'\", \"U'\", 'H', 'D', 'D', 'R', 'U', \"F'\", \"U'\", 'H', 'R', 'R', 'H', \"F'\", 'D', 'R', 'R', 'F', 'H', 'H', 'H', \"R'\", \"D'\", 'R', 'H', 'H', \"D'\", \"R'\", \"D'\", 'R', 'D', 'H', 'H', 'H', \"R'\", \"D'\", 'R', 'H', 'H', \"D'\", \"R'\", \"D'\", 'R', 'D', \"R'\", \"D'\", 'R', 'D', \"R'\", \"D'\", 'R', 'D', 'H', 'H', \"R'\", \"D'\", 'R', 'H', 'H', 'H', \"R'\", \"D'\", 'R', 'D', \"R'\", \"D'\", 'R', 'D', \"R'\", \"D'\", 'R', 'D', \"R'\", \"D'\", 'R', 'D', \"R'\", \"D'\", 'R', 'D', 'H', 'H', 'V', 'V', 'H', 'H', 'H', 'U', 'R', \"U'\", \"R'\", \"U'\", \"F'\", 'U', 'F', 'H', 'H', 'H', \"U'\", \"U'\", \"L'\", 'U', 'L', 'U', 'F', \"U'\", \"F'\", 'H', 'H', 'U', 'R', \"U'\", \"R'\", \"U'\", \"F'\", 'U', 'F', 'H', 'H', 'U', 'R', \"U'\", \"R'\", \"U'\", \"F'\", 'U', 'F', 'H', 'H', \"L'\", 'U', 'L', 'U', 'F', \"U'\", \"F'\", 'U', 'U', 'R', \"U'\", \"R'\", \"U'\", \"F'\", 'U', 'F', 'H', 'H', 'F', 'U', 'R', \"U'\", \"R'\", \"F'\", 'R', 'U', \"R'\", 'U', 'R', 'U', 'U', \"R'\", 'H', 'R', 'U', \"R'\", 'U', 'R', 'U', 'U', \"R'\", 'U', 'U', 'H', 'H', 'H', 'F', 'F', \"U'\", 'L', \"R'\", 'F', 'F', \"L'\", 'R', \"U'\", 'F', 'F']\n"
     ]
    }
   ],
   "source": [
    "cubieColor= [\n",
    "[ \"W\",\"R\",\"G\",\"R\",\"W\",\"O\",\"R\",\"B\",\"G\" ], \n",
    "[ \"B\",\"G\",\"G\",\"Y\",\"Y\",\"B\",\"R\",\"G\",\"W\" ], \n",
    "[ \"Y\",\"Y\",\"B\",\"W\",\"O\",\"G\",\"R\",\"R\",\"Y\" ], \n",
    "[ \"B\",\"W\",\"W\",\"R\",\"R\",\"W\",\"Y\",\"O\",\"W\" ], \n",
    "[ \"O\",\"B\",\"Y\",\"Y\",\"G\",\"W\",\"G\",\"B\",\"O\" ], \n",
    "[ \"O\",\"Y\",\"O\",\"O\",\"B\",\"G\",\"R\",\"O\",\"B\" ]  \n",
    "]\n",
    "\n",
    "print(\"Total number of moves are %d\" %order)\n",
    "print(moves[0:order])\n",
    "#actual move after delete \"H\" and \"V\" is 152"
   ]
  }
 ],
 "metadata": {
  "kernelspec": {
   "display_name": "Python 3",
   "language": "python",
   "name": "python3"
  },
  "language_info": {
   "codemirror_mode": {
    "name": "ipython",
    "version": 3
   },
   "file_extension": ".py",
   "mimetype": "text/x-python",
   "name": "python",
   "nbconvert_exporter": "python",
   "pygments_lexer": "ipython3",
   "version": "3.6.8"
  }
 },
 "nbformat": 4,
 "nbformat_minor": 2
}
