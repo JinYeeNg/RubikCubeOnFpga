{
 "cells": [
  {
   "cell_type": "code",
   "execution_count": 1,
   "metadata": {},
   "outputs": [
    {
     "data": {
      "application/javascript": [
       "\n",
       "require(['notebook/js/codecell'], function(codecell) {\n",
       "  codecell.CodeCell.options_default.highlight_modes[\n",
       "      'magic_text/x-csrc'] = {'reg':[/^%%microblaze/]};\n",
       "  Jupyter.notebook.events.one('kernel_ready.Kernel', function(){\n",
       "      Jupyter.notebook.get_cells().map(function(cell){\n",
       "          if (cell.cell_type == 'code'){ cell.auto_highlight(); } }) ;\n",
       "  });\n",
       "});\n"
      ]
     },
     "metadata": {},
     "output_type": "display_data"
    }
   ],
   "source": [
    "from pynq import Overlay\n",
    "ol= Overlay(\"input.bit\")"
   ]
  },
  {
   "cell_type": "code",
   "execution_count": 2,
   "metadata": {},
   "outputs": [
    {
     "data": {
      "text/plain": [
       "{'input2_0': {'addr_range': 65536,\n",
       "  'driver': pynq.overlay.DefaultIP,\n",
       "  'fullpath': 'input2_0',\n",
       "  'gpio': {},\n",
       "  'interrupts': {},\n",
       "  'phys_addr': 1136656384,\n",
       "  'state': None,\n",
       "  'type': 'xilinx.com:hls:input2:1.0'}}"
      ]
     },
     "execution_count": 2,
     "metadata": {},
     "output_type": "execute_result"
    }
   ],
   "source": [
    "ol.ip_dict"
   ]
  },
  {
   "cell_type": "code",
   "execution_count": 5,
   "metadata": {},
   "outputs": [
    {
     "name": "stdout",
     "output_type": "stream",
     "text": [
      "4\n"
     ]
    }
   ],
   "source": [
    "from pynq import MMIO\n",
    "mmio=MMIO(0x43C00000,0x10000)\n",
    "print(mmio.read(0x000))"
   ]
  },
  {
   "cell_type": "code",
   "execution_count": 6,
   "metadata": {},
   "outputs": [
    {
     "name": "stdout",
     "output_type": "stream",
     "text": [
      "6\n"
     ]
    }
   ],
   "source": [
    "mmio.write(0x000,1)\n",
    "print(mmio.read(0x000))"
   ]
  },
  {
   "cell_type": "code",
   "execution_count": 9,
   "metadata": {},
   "outputs": [
    {
     "data": {
      "text/plain": [
       "17474"
      ]
     },
     "execution_count": 9,
     "metadata": {},
     "output_type": "execute_result"
    }
   ],
   "source": [
    "mmio.read(0x74)"
   ]
  },
  {
   "cell_type": "code",
   "execution_count": 10,
   "metadata": {},
   "outputs": [],
   "source": [
    "#DRLU UBFB RBLU RRLR UBLR DDFD LFUF UFFD BRDU BRUF LLFD DBFL UBLR BD\n",
    "\n",
    "\n",
    "B = ord('B')\n",
    "D = ord('D')\n",
    "F = ord('F')\n",
    "L = ord('L')\n",
    "R = ord('R')\n",
    "U = ord('U')\n",
    "\n",
    "#DRLU\n",
    "tmp1 = D + (R<< 8) + (L<< 16) +(U<< 24)\n",
    "# UBFB\n",
    "tmp2 = U + (B << 8)+ (F<< 16) + (B<<24)\n",
    "# tmp3 = RBLU\n",
    "tmp3 = R + (B << 8)+ (L<< 16) + (U<< 24)\n",
    "# tmp4 = RRLR\n",
    "tmp4 = R + (R << 8)+ (L<< 16) + (R<<24 )\n",
    "# tmp5 = UBLR\n",
    "tmp5 = U + (B << 8)+ (L<< 16) + (R<<24 )\n",
    "# tmp6 = DDFD\n",
    "tmp6 = D + (D << 8)+ (F<< 16) + (D<<24 )\n",
    "# tmp7 = LFUF\n",
    "tmp7 = L + (F << 8)+ (U<< 16) + (F<< 24)\n",
    "# tmp8 = UFFD\n",
    "tmp8 = U+ (F << 8)+ (F<< 16) + (D<<24 )\n",
    "# tmp9 = BRDU\n",
    "tmp9 = B + (R << 8)+ (D<< 16) + (U<< 24)\n",
    "# tmp10 = BRUF\n",
    "tmp10 = B + (R << 8)+ (U<< 16) + (F<< 24)\n",
    "# tmp11 = LLFD\n",
    "tmp11 = L  + (L << 8)+ (F<< 16) + (D<< 24)\n",
    "# tmp12 = DBFL\n",
    "tmp12 = D  + (B << 8)+ (F<< 16) + (L<< 24)\n",
    "# tmp13 = UBLR\n",
    "tmp13 = U + (B << 8)+ (L<< 16) + (R<< 24)\n",
    "# tmp14 = BD\n",
    "tmp14 = B + (D << 8)"
   ]
  },
  {
   "cell_type": "code",
   "execution_count": 11,
   "metadata": {},
   "outputs": [
    {
     "name": "stdout",
     "output_type": "stream",
     "text": [
      "1431065156\n",
      "1111900757\n",
      "1431061074\n",
      "1380733522\n",
      "1380729429\n",
      "1145455684\n",
      "1179993676\n",
      "1145456213\n",
      "1430540866\n",
      "1179996738\n",
      "1145457740\n",
      "1279672900\n",
      "1380729429\n",
      "17474\n"
     ]
    }
   ],
   "source": [
    "print(tmp1)\n",
    "print(tmp2)\n",
    "print(tmp3)\n",
    "print(tmp4)\n",
    "print(tmp5)\n",
    "print(tmp6)\n",
    "print(tmp7)\n",
    "print(tmp8)\n",
    "print(tmp9)\n",
    "print(tmp10)\n",
    "print(tmp11)\n",
    "print(tmp12)\n",
    "print(tmp13)\n",
    "print(tmp14)"
   ]
  },
  {
   "cell_type": "code",
   "execution_count": 12,
   "metadata": {},
   "outputs": [
    {
     "name": "stdout",
     "output_type": "stream",
     "text": [
      "1431065156\n",
      "1111900757\n",
      "1431061074\n",
      "1380733522\n",
      "1380729429\n",
      "1145455684\n",
      "1179993676\n",
      "1145456213\n",
      "1430540866\n",
      "1179996738\n",
      "1145457740\n",
      "1279672900\n",
      "1380729429\n",
      "17474\n"
     ]
    }
   ],
   "source": [
    "print(mmio.read(0x40))\n",
    "print(mmio.read(0x44))\n",
    "print(mmio.read(0x48))\n",
    "print(mmio.read(0x4c))\n",
    "print(mmio.read(0x50))\n",
    "print(mmio.read(0x54))\n",
    "print(mmio.read(0x58))\n",
    "print(mmio.read(0x5c))\n",
    "print(mmio.read(0x60))\n",
    "print(mmio.read(0x64))\n",
    "print(mmio.read(0x68))\n",
    "print(mmio.read(0x6c))\n",
    "print(mmio.read(0x70))\n",
    "print(mmio.read(0x74))"
   ]
  },
  {
   "cell_type": "code",
   "execution_count": null,
   "metadata": {},
   "outputs": [],
   "source": []
  }
 ],
 "metadata": {
  "kernelspec": {
   "display_name": "Python 3",
   "language": "python",
   "name": "python3"
  },
  "language_info": {
   "codemirror_mode": {
    "name": "ipython",
    "version": 3
   },
   "file_extension": ".py",
   "mimetype": "text/x-python",
   "name": "python",
   "nbconvert_exporter": "python",
   "pygments_lexer": "ipython3",
   "version": "3.6.5"
  }
 },
 "nbformat": 4,
 "nbformat_minor": 2
}
