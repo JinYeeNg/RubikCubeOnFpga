{
 "cells": [
  {
   "cell_type": "code",
   "execution_count": 2,
   "metadata": {},
   "outputs": [],
   "source": [
    "import numpy as np\n",
    "import filecmp\n",
    "\n",
    "fileNameCmp = \"results/cmp\"\n",
    "fileName0 = \"results/twistMove\"\n",
    "fileName1 = \"results/flipMove\"\n",
    "fileName2 = \"results/FRtoBR_Move\"\n",
    "fileName3 = \"results/URFtoDLF_Move\"\n",
    "fileName4 = \"results/URtoDF_Move\"\n",
    "fileName5 = \"results/URtoUL_Move\"\n",
    "fileName6 = \"results/UBtoDF_Move\"\n",
    "fileName7 = \"results/MergeURtoULandUBtoDF\"\n",
    "fileName8 = \"results/Slice_URFtoDLF_Parity_Prun\"\n",
    "fileName9 = \"results/Slice_URtoDF_Parity_Prun\"\n",
    "fileName10 = \"results/Slice_Twist_Prun\"\n",
    "fileName11 = \"results/Slice_Flip_Prun\"\n",
    "\n",
    "def insert_16(fileName):\n",
    "    f = open(fileName,'rb')\n",
    "    buffer= f.read()\n",
    "    lSize=f.tell()\n",
    "    # list_short = []\n",
    "    # for i in np.arange(int(lSize/2)):\n",
    "    #     list_short.append((buffer[i*2]) +( buffer [(i*2)+1]<<8))\n",
    "    buffer_short = np.fromstring(buffer,dtype=np.short)\n",
    "\n",
    "    open(fileNameCmp, 'w').close()\n",
    "    f_out = open(fileNameCmp,'w+b')\n",
    "    # for i in np.arange(int(lSize/2)):\n",
    "    #     f_out.write(buffer_short[i])\n",
    "    f_out.write(buffer_short)\n",
    "\n",
    "    f.close()\n",
    "    f_out.close()\n",
    "    #f.seek(0)\n",
    "    return buffer_short, int(lSize/2)\n",
    "\n",
    "def insert_8(fileName):\n",
    "    f = open(fileName,'rb')\n",
    "    buffer= f.read()\n",
    "    lSize=f.tell()\n",
    "    buffer_char = np.fromstring(buffer,dtype=np.byte)\n",
    "\n",
    "    open(fileNameCmp, 'w').close()\n",
    "    f_out = open(fileNameCmp,'w+b')\n",
    "    f_out.write(buffer_char)\n",
    "\n",
    "    f.close()\n",
    "    f_out.close()\n",
    "\n",
    "    return buffer_char, lSize"
   ]
  },
  {
   "cell_type": "code",
   "execution_count": 3,
   "metadata": {},
   "outputs": [
    {
     "data": {
      "application/javascript": [
       "\n",
       "require(['notebook/js/codecell'], function(codecell) {\n",
       "  codecell.CodeCell.options_default.highlight_modes[\n",
       "      'magic_text/x-csrc'] = {'reg':[/^%%microblaze/]};\n",
       "  Jupyter.notebook.events.one('kernel_ready.Kernel', function(){\n",
       "      Jupyter.notebook.get_cells().map(function(cell){\n",
       "          if (cell.cell_type == 'code'){ cell.auto_highlight(); } }) ;\n",
       "  });\n",
       "});\n"
      ]
     },
     "metadata": {},
     "output_type": "display_data"
    },
    {
     "name": "stdout",
     "output_type": "stream",
     "text": [
      "39366\n",
      "True\n",
      "36864\n",
      "True\n",
      "213840\n",
      "True\n",
      "362880\n",
      "True\n",
      "362880\n",
      "True\n",
      "23760\n",
      "True\n",
      "23760\n",
      "True\n",
      "112896\n",
      "True\n",
      "483840\n",
      "True\n",
      "483840\n",
      "True\n",
      "541283\n",
      "True\n",
      "506880\n",
      "True\n"
     ]
    }
   ],
   "source": [
    "import pynq.lib.dma\n",
    "from pynq import Xlnk\n",
    "\n",
    "xlnk = Xlnk()\n",
    "xlnk.xlnk_reset()\n",
    "# from pynq.overlays.base import BaseOverlay\n",
    "# base_overlay = BaseOverlay(\"base.bit\")\n",
    "# dma = ol.axi_dma\n",
    "\n",
    "data_np = np.arange(10)\n",
    "tree_buf, size = insert_16(fileName0)\n",
    "print(size)\n",
    "print(filecmp.cmp(fileName0,fileNameCmp))\n",
    "inputBuffer0 = xlnk.cma_array(shape=(size,), dtype=np.short)\n",
    "for i in np.arange(size):\n",
    "    inputBuffer0[i]=tree_buf[i]\n",
    "\n",
    "tree_buf, size = insert_16(fileName1)\n",
    "print(size)\n",
    "print(filecmp.cmp(fileName1,fileNameCmp))\n",
    "inputBuffer1 = xlnk.cma_array(shape=(size,), dtype=np.short)\n",
    "for i in np.arange(size):\n",
    "    inputBuffer1[i]=tree_buf[i]\n",
    "\n",
    "tree_buf, size = insert_16(fileName2)\n",
    "print(size)\n",
    "print(filecmp.cmp(fileName2,fileNameCmp))\n",
    "inputBuffer2 = xlnk.cma_array(shape=(size,), dtype=np.short)\n",
    "for i in np.arange(size):\n",
    "    inputBuffer2[i]=tree_buf[i]\n",
    "\n",
    "tree_buf, size = insert_16(fileName3)\n",
    "print(size)\n",
    "print(filecmp.cmp(fileName3,fileNameCmp))\n",
    "inputBuffer3 = xlnk.cma_array(shape=(size,), dtype=np.short)\n",
    "for i in np.arange(size):\n",
    "    inputBuffer3[i]=tree_buf[i]\n",
    "\n",
    "tree_buf, size = insert_16(fileName4)\n",
    "print(size)\n",
    "print(filecmp.cmp(fileName4,fileNameCmp))\n",
    "inputBuffer4 = xlnk.cma_array(shape=(size,), dtype=np.short)\n",
    "for i in np.arange(size):\n",
    "    inputBuffer4[i]=tree_buf[i]\n",
    "\n",
    "tree_buf, size = insert_16(fileName5)\n",
    "print(size)\n",
    "print(filecmp.cmp(fileName5,fileNameCmp))\n",
    "inputBuffer5 = xlnk.cma_array(shape=(size,), dtype=np.short)\n",
    "for i in np.arange(size):\n",
    "    inputBuffer5[i]=tree_buf[i]\n",
    "\n",
    "tree_buf, size = insert_16(fileName6)\n",
    "print(size)\n",
    "print(filecmp.cmp(fileName6,fileNameCmp))\n",
    "inputBuffer6 = xlnk.cma_array(shape=(size,), dtype=np.short)\n",
    "for i in np.arange(size):\n",
    "    inputBuffer6[i]=tree_buf[i]\n",
    "\n",
    "tree_buf, size = insert_16(fileName7)\n",
    "print(size)\n",
    "print(filecmp.cmp(fileName7,fileNameCmp))\n",
    "inputBuffer7 = xlnk.cma_array(shape=(size,), dtype=np.short)\n",
    "for i in np.arange(size):\n",
    "    inputBuffer7[i]=tree_buf[i]\n",
    "\n",
    "tree_buf, size = insert_8(fileName8)\n",
    "print(size)\n",
    "print(filecmp.cmp(fileName8,fileNameCmp))\n",
    "inputBuffer8 = xlnk.cma_array(shape=(size,), dtype=np.byte)\n",
    "for i in np.arange(size):\n",
    "    inputBuffer8[i]=tree_buf[i]\n",
    "\n",
    "tree_buf, size = insert_8(fileName9)\n",
    "print(size)\n",
    "print(filecmp.cmp(fileName9,fileNameCmp))\n",
    "inputBuffer9 = xlnk.cma_array(shape=(size,), dtype=np.byte)\n",
    "for i in np.arange(size):\n",
    "    inputBuffer9[i]=tree_buf[i]\n",
    "\n",
    "tree_buf, size = insert_8(fileName10)\n",
    "print(size)\n",
    "print(filecmp.cmp(fileName10,fileNameCmp))\n",
    "inputBuffer10 = xlnk.cma_array(shape=(size,), dtype=np.byte)\n",
    "for i in np.arange(size):\n",
    "    inputBuffer10[i]=tree_buf[i]\n",
    "\n",
    "tree_buf, size = insert_8(fileName11)\n",
    "print(size)\n",
    "print(filecmp.cmp(fileName11,fileNameCmp))\n",
    "inputBuffer11 = xlnk.cma_array(shape=(size,), dtype=np.byte)\n",
    "for i in np.arange(size):\n",
    "    inputBuffer11[i]=tree_buf[i]"
   ]
  },
  {
   "cell_type": "code",
   "execution_count": 4,
   "metadata": {},
   "outputs": [
    {
     "name": "stdout",
     "output_type": "stream",
     "text": [
      "403046400\n",
      "403177472\n",
      "403701760\n",
      "404750336\n",
      "405798912\n",
      "402980864\n",
      "403308544\n",
      "403439616\n",
      "404226048\n",
      "406847488\n",
      "407896064\n",
      "407371776\n"
     ]
    }
   ],
   "source": [
    "print(inputBuffer0.physical_address)\n",
    "print(inputBuffer1.physical_address)\n",
    "print(inputBuffer2.physical_address)\n",
    "print(inputBuffer3.physical_address)\n",
    "print(inputBuffer4.physical_address)\n",
    "print(inputBuffer5.physical_address)\n",
    "print(inputBuffer6.physical_address)\n",
    "print(inputBuffer7.physical_address)\n",
    "print(inputBuffer8.physical_address)\n",
    "print(inputBuffer9.physical_address)\n",
    "print(inputBuffer10.physical_address)\n",
    "print(inputBuffer11.physical_address)"
   ]
  },
  {
   "cell_type": "code",
   "execution_count": 5,
   "metadata": {},
   "outputs": [
    {
     "name": "stdout",
     "output_type": "stream",
     "text": [
      "<cdata 'void *' 0xacd6d000>\n",
      "<cdata 'void *' 0xb3000000>\n",
      "<cdata 'void *' 0xacd04000>\n",
      "<cdata 'void *' 0xacc52000>\n",
      "<cdata 'void *' 0xacba0000>\n",
      "<cdata 'void *' 0xb6762000>\n",
      "<cdata 'void *' 0xb65fd000>\n",
      "<cdata 'void *' 0xacb68000>\n",
      "<cdata 'void *' 0xacaf1000>\n",
      "<cdata 'void *' 0xaca7a000>\n",
      "<cdata 'void *' 0xac9f5000>\n",
      "<cdata 'void *' 0xac979000>\n"
     ]
    }
   ],
   "source": [
    "print(inputBuffer0.pointer)\n",
    "print(inputBuffer1.pointer)\n",
    "print(inputBuffer2.pointer)\n",
    "print(inputBuffer3.pointer)\n",
    "print(inputBuffer4.pointer)\n",
    "print(inputBuffer5.pointer)\n",
    "print(inputBuffer6.pointer)\n",
    "print(inputBuffer7.pointer)\n",
    "print(inputBuffer8.pointer)\n",
    "print(inputBuffer9.pointer)\n",
    "print(inputBuffer10.pointer)\n",
    "print(inputBuffer11.pointer)\n"
   ]
  },
  {
   "cell_type": "code",
   "execution_count": 6,
   "metadata": {},
   "outputs": [
    {
     "name": "stdout",
     "output_type": "stream",
     "text": [
      "0\n"
     ]
    }
   ],
   "source": [
    "print (inputBuffer0[0])"
   ]
  },
  {
   "cell_type": "code",
   "execution_count": 7,
   "metadata": {},
   "outputs": [],
   "source": [
    "from pynq import Overlay\n",
    "from pynq import MMIO\n",
    "\n",
    "ol= Overlay(\"kociemba.bit\")"
   ]
  },
  {
   "cell_type": "code",
   "execution_count": 8,
   "metadata": {},
   "outputs": [
    {
     "data": {
      "text/plain": [
       "{'solution_0': {'addr_range': 65536,\n",
       "  'driver': pynq.overlay.DefaultIP,\n",
       "  'fullpath': 'solution_0',\n",
       "  'gpio': {},\n",
       "  'interrupts': {},\n",
       "  'phys_addr': 1136656384,\n",
       "  'state': None,\n",
       "  'type': 'xilinx.com:hls:solution:1.0'}}"
      ]
     },
     "execution_count": 8,
     "metadata": {},
     "output_type": "execute_result"
    }
   ],
   "source": [
    "ol.ip_dict"
   ]
  },
  {
   "cell_type": "code",
   "execution_count": 9,
   "metadata": {},
   "outputs": [
    {
     "name": "stdout",
     "output_type": "stream",
     "text": [
      "0x43c00000\n"
     ]
    }
   ],
   "source": [
    "print(hex(ol.ip_dict['solution_0']['phys_addr']))"
   ]
  },
  {
   "cell_type": "code",
   "execution_count": 10,
   "metadata": {},
   "outputs": [
    {
     "name": "stdout",
     "output_type": "stream",
     "text": [
      "4\n"
     ]
    }
   ],
   "source": [
    "mmio=MMIO(0x43C00000,0x10000)\n",
    "print(mmio.read(0x000))"
   ]
  },
  {
   "cell_type": "code",
   "execution_count": 11,
   "metadata": {},
   "outputs": [
    {
     "name": "stdout",
     "output_type": "stream",
     "text": [
      "24\n"
     ]
    }
   ],
   "source": [
    "#mmio.write(0x0o0,1)\n",
    "mmio.write(0x080, 24)\n",
    "print(mmio.read(0x80))"
   ]
  },
  {
   "cell_type": "code",
   "execution_count": 12,
   "metadata": {},
   "outputs": [],
   "source": [
    "#DRLU UBFB RBLU RRLR UBLR DDFD LFUF UFFD BRDU BRUF LLFD DBFL UBLR BD\n",
    "\n",
    "\n",
    "B = ord('B')\n",
    "D = ord('D')\n",
    "F = ord('F')\n",
    "L = ord('L')\n",
    "R = ord('R')\n",
    "U = ord('U')\n",
    "\n",
    "#DRLU\n",
    "tmp1 = D + (R<< 8) + (L<< 16) +(U<< 24)\n",
    "# UBFB\n",
    "tmp2 = U + (B << 8)+ (F<< 16) + (B<<24)\n",
    "# tmp3 = RBLU\n",
    "tmp3 = R + (B << 8)+ (L<< 16) + (U<< 24)\n",
    "# tmp4 = RRLR\n",
    "tmp4 = R + (R << 8)+ (L<< 16) + (R<<24 )\n",
    "# tmp5 = UBLR\n",
    "tmp5 = U + (B << 8)+ (L<< 16) + (R<<24 )\n",
    "# tmp6 = DDFD\n",
    "tmp6 = D + (D << 8)+ (F<< 16) + (D<<24 )\n",
    "# tmp7 = LFUF\n",
    "tmp7 = L + (F << 8)+ (U<< 16) + (F<< 24)\n",
    "# tmp8 = UFFD\n",
    "tmp8 = U+ (F << 8)+ (F<< 16) + (D<<24 )\n",
    "# tmp9 = BRDU\n",
    "tmp9 = B + (R << 8)+ (D<< 16) + (U<< 24)\n",
    "# tmp10 = BRUF\n",
    "tmp10 = B + (R << 8)+ (U<< 16) + (F<< 24)\n",
    "# tmp11 = LLFD\n",
    "tmp11 = L  + (L << 8)+ (F<< 16) + (D<< 24)\n",
    "# tmp12 = DBFL\n",
    "tmp12 = D  + (B << 8)+ (F<< 16) + (L<< 24)\n",
    "# tmp13 = UBLR\n",
    "tmp13 = U + (B << 8)+ (L<< 16) + (R<< 24)\n",
    "# tmp14 = BD\n",
    "tmp14 = B + (D << 8)\n",
    "#print (tmp1)\n",
    "\n"
   ]
  },
  {
   "cell_type": "code",
   "execution_count": 13,
   "metadata": {},
   "outputs": [],
   "source": [
    "mmio.write(0x40,tmp1)\n",
    "mmio.write(0x40+4,tmp2)\n",
    "mmio.write(0x40+8,tmp3)\n",
    "mmio.write(0x40+12,tmp4)\n",
    "mmio.write(0x40+16,tmp5)\n",
    "mmio.write(0x40+20,tmp6)\n",
    "mmio.write(0x40+24,tmp7)\n",
    "mmio.write(0x40+28,tmp8)\n",
    "mmio.write(0x40+32,tmp9)\n",
    "mmio.write(0x40+36,tmp10)\n",
    "mmio.write(0x40+40,tmp11)\n",
    "mmio.write(0x40+44,tmp12)\n",
    "mmio.write(0x40+48,tmp13)\n",
    "mmio.write(0x40+52,tmp14)"
   ]
  },
  {
   "cell_type": "code",
   "execution_count": 14,
   "metadata": {},
   "outputs": [
    {
     "name": "stdout",
     "output_type": "stream",
     "text": [
      "1431065156\n",
      "1111900757\n",
      "1431061074\n",
      "1380733522\n",
      "1380729429\n",
      "1145455684\n",
      "1179993676\n",
      "1145456213\n",
      "1430540866\n",
      "1179996738\n",
      "1145457740\n",
      "1279672900\n",
      "1380729429\n",
      "17474\n",
      "17474\n"
     ]
    }
   ],
   "source": [
    "print(tmp1)\n",
    "print(tmp2)\n",
    "print(tmp3)\n",
    "print(tmp4)\n",
    "print(tmp5)\n",
    "print(tmp6)\n",
    "print(tmp7)\n",
    "print(tmp8)\n",
    "print(tmp9)\n",
    "print(tmp10)\n",
    "print(tmp11)\n",
    "print(tmp12)\n",
    "print(tmp13)\n",
    "print(tmp14)\n",
    "print (mmio.read(0x74))"
   ]
  },
  {
   "cell_type": "code",
   "execution_count": 15,
   "metadata": {},
   "outputs": [],
   "source": [
    "from pynq import DefaultIP\n",
    "\n",
    "class MorphDriver(DefaultIP):\n",
    "    def __init__(self, description):\n",
    "        super().__init__(description=description)\n",
    "\n",
    "    bindto = ['xilinx.com:hls:solution:1.0']\n",
    "\n",
    "    def writeFrame(self, in0, in1, in2, in3, in4, in5, in6, in7, in9, in10, in11):\n",
    "        self.write(0x10, in0.physical_address)\n",
    "        self.write(0x18, in1.physical_address)\n",
    "        self.write(0x20, in2.physical_address)\n",
    "        self.write(0x28, in3.physical_address)\n",
    "        self.write(0x30, in4.physical_address)\n",
    "        self.write(0x38, in5.physical_address)\n",
    "        self.write(0x88, in6.physical_address)\n",
    "        self.write(0x90, in7.physical_address)\n",
    "        self.write(0x98, in8.physical_address)\n",
    "        self.write(0xa0, in9.physical_address)\n",
    "        self.write(0xa8, in10.physical_address)\n",
    "        self.write(0xb0, in11.physical_address)\n",
    "        "
   ]
  },
  {
   "cell_type": "code",
   "execution_count": 16,
   "metadata": {},
   "outputs": [],
   "source": [
    "sol= ol.solution_0"
   ]
  },
  {
   "cell_type": "code",
   "execution_count": 17,
   "metadata": {},
   "outputs": [],
   "source": [
    "sol.write(0x010,inputBuffer0.physical_address)\n",
    "sol.write(0x018,inputBuffer1.physical_address)\n",
    "sol.write(0x020,inputBuffer2.physical_address)\n",
    "sol.write(0x028,inputBuffer3.physical_address)\n",
    "sol.write(0x030,inputBuffer4.physical_address)\n",
    "sol.write(0x038,inputBuffer5.physical_address)\n",
    "sol.write(0x088,inputBuffer6.physical_address)\n",
    "sol.write(0x090,inputBuffer7.physical_address)\n",
    "sol.write(0x098,inputBuffer8.physical_address)\n",
    "sol.write(0x0a0,inputBuffer9.physical_address)\n",
    "sol.write(0x0a8,inputBuffer10.physical_address)\n",
    "sol.write(0x0b0,inputBuffer11.physical_address)\n",
    "          \n",
    "          \n",
    "#           ,inputBuffer1,inputBuffer2,inputBuffer3,inputBuffer4\n",
    "#               ,inputBuffer5,inputBuffer6,inputBuffer7,inputBuffer8,inputBuffer9,inputBuffer10,inputBuffer11)"
   ]
  },
  {
   "cell_type": "code",
   "execution_count": 18,
   "metadata": {},
   "outputs": [],
   "source": [
    "mmio.write(0x000, 1)"
   ]
  },
  {
   "cell_type": "code",
   "execution_count": 19,
   "metadata": {},
   "outputs": [
    {
     "data": {
      "text/plain": [
       "6"
      ]
     },
     "execution_count": 19,
     "metadata": {},
     "output_type": "execute_result"
    }
   ],
   "source": [
    "mmio.read(0x000)"
   ]
  },
  {
   "cell_type": "code",
   "execution_count": 20,
   "metadata": {},
   "outputs": [
    {
     "data": {
      "text/plain": [
       "19"
      ]
     },
     "execution_count": 20,
     "metadata": {},
     "output_type": "execute_result"
    }
   ],
   "source": [
    "mmio.read(0x180)"
   ]
  },
  {
   "cell_type": "code",
   "execution_count": 21,
   "metadata": {},
   "outputs": [
    {
     "data": {
      "text/plain": [
       "15"
      ]
     },
     "execution_count": 21,
     "metadata": {},
     "output_type": "execute_result"
    }
   ],
   "source": [
    "mmio.read(0x200)"
   ]
  },
  {
   "cell_type": "code",
   "execution_count": 31,
   "metadata": {},
   "outputs": [
    {
     "name": "stdout",
     "output_type": "stream",
     "text": [
      "15\n",
      "7\n",
      "9\n",
      "14\n",
      "5\n",
      "3\n",
      "13\n",
      "15\n",
      "7\n",
      "14\n",
      "9\n",
      "14\n",
      "6\n",
      "17\n",
      "16\n",
      "12\n",
      "3\n",
      "13\n",
      "0\n"
     ]
    }
   ],
   "source": [
    "order= int(mmio.read(0x180))\n",
    "moves= []\n",
    "\n",
    "def assign(mNum):\n",
    "    if(mNum==0):\n",
    "        moves.append(\"U\")\n",
    "    elif(mNum==1):\n",
    "        moves.append(\"R\")\n",
    "    elif(mNum==2):\n",
    "        moves.append(\"F\")\n",
    "    elif(mNum==3):\n",
    "        moves.append(\"D\")\n",
    "    elif(mNum==4):\n",
    "        moves.append(\"L\")\n",
    "    elif(mNum==5):\n",
    "        moves.append(\"B\")\n",
    "    elif(mNum==6):\n",
    "        moves.append(\"U'\")\n",
    "    elif(mNum==7):\n",
    "        moves.append(\"R'\")\n",
    "    elif(mNum==8):\n",
    "        moves.append(\"F'\")\n",
    "    elif(mNum==9):\n",
    "        moves.append(\"D'\")\n",
    "    elif(mNum==10):\n",
    "        moves.append(\"L'\")\n",
    "    elif(mNum==11):\n",
    "        moves.append(\"B'\")\n",
    "    elif(mNum==12):\n",
    "        moves.append(\"U2\")\n",
    "    elif(mNum==13):\n",
    "        moves.append(\"R2\")\n",
    "    elif(mNum==14):\n",
    "        moves.append(\"F2\")\n",
    "    elif(mNum==15):\n",
    "        moves.append(\"D2\")\n",
    "    elif(mNum==16):\n",
    "        moves.append(\"L2\")\n",
    "    elif(mNum==17):\n",
    "        moves.append(\"B2\")\n",
    "    else:\n",
    "        print(\"error\")\n",
    "\n",
    "# def bytes(num):\n",
    "#     assign(int(hex(num& 0xff),16)) \n",
    "#     assign(int(hex(num >>8 & 0xff),16))\n",
    "#     assign(int(hex(num >> 16 & 0xff),16))\n",
    "#     assign(int(hex(num >> 24& 0xff),16))\n",
    "\n",
    "base_address= 0x200\n",
    "i =0\n",
    "j=0\n",
    "while( j<order):\n",
    "    data = mmio.read(int(base_address)+j*4)\n",
    "    print(data)\n",
    "    assign(data)\n",
    "    j=j+1\n",
    "    i=i+4"
   ]
  },
  {
   "cell_type": "code",
   "execution_count": null,
   "metadata": {},
   "outputs": [],
   "source": [
    "// 0x010 : Data signal of twistMove2\n",
    "// 0x018 : Data signal of flipMove2\n",
    "// 0x020 : Data signal of FRtoBR_Move2\n",
    "// 0x028 : Data signal of URFtoDLF_Move2\n",
    "// 0x030 : Data signal of URtoDF_Move2\n",
    "// 0x038 : Data signal of URtoUL_Move2\n",
    "// 0x088 : Data signal of UBtoDF_Move2\n",
    "// 0x090 : Data signal of MergeURtoULandUBtoDF2\n",
    "// 0x098 : Data signal of Slice_URFtoDLF_Parity_Prun2\n",
    "// 0x0a0 : Data signal of Slice_URtoDF_Parity_Prun2\n",
    "// 0x0a8 : Data signal of Slice_Twist_Prun2\n",
    "// 0x0b0 : Data signal of Slice_Flip_Prun2\n",
    "\n",
    "// 0x040 ~\n",
    "// 0x07f : Memory 'facelets' (54 * 8b)\n",
    "//         Word n : bit [ 7: 0] - facelets[4n]\n",
    "//                  bit [15: 8] - facelets[4n+1]\n",
    "//                  bit [23:16] - facelets[4n+2]\n",
    "//                  bit [31:24] - facelets[4n+3]\n",
    "// 0x100 ~\n",
    "// 0x17f : Memory 'solu' (100 * 8b)\n",
    "//         Word n : bit [ 7: 0] - solu[4n]\n",
    "//                  bit [15: 8] - solu[4n+1]\n",
    "//                  bit [23:16] - solu[4n+2]\n",
    "//                  bit [31:24] - solu[4n+3]\n",
    "// 0x200 ~\n",
    "// 0x27f : Memory 'encode_array' (30 * 32b)\n",
    "//         Word n : bit [31:0] - encode_array[n]\n",
    "// (SC = Self Clear, COR = Clear on Read, TOW = Toggle on Write, COH = Clear on Handshake)"
   ]
  },
  {
   "cell_type": "code",
   "execution_count": 28,
   "metadata": {},
   "outputs": [
    {
     "name": "stdout",
     "output_type": "stream",
     "text": [
      "0xf\n"
     ]
    }
   ],
   "source": [
    "print(hex(mmio.read(0x200)))"
   ]
  },
  {
   "cell_type": "code",
   "execution_count": null,
   "metadata": {},
   "outputs": [],
   "source": [
    "xlnk.xlnk_reset()"
   ]
  },
  {
   "cell_type": "code",
   "execution_count": 62,
   "metadata": {},
   "outputs": [
    {
     "name": "stdout",
     "output_type": "stream",
     "text": [
      "[  48   51   51 ..., -120 -104 -120]\n"
     ]
    }
   ],
   "source": [
    "print(inputBuffer11)"
   ]
  },
  {
   "cell_type": "code",
   "execution_count": 32,
   "metadata": {},
   "outputs": [
    {
     "name": "stdout",
     "output_type": "stream",
     "text": [
      "['D2', \"R'\", \"D'\", 'F2', 'B', 'D', 'R2', 'D2', \"R'\", 'F2', \"D'\", 'F2', \"U'\", 'B2', 'L2', 'U2', 'D', 'R2', 'U']\n"
     ]
    }
   ],
   "source": [
    "print(moves)"
   ]
  },
  {
   "cell_type": "code",
   "execution_count": null,
   "metadata": {},
   "outputs": [],
   "source": []
  }
 ],
 "metadata": {
  "kernelspec": {
   "display_name": "Python 3",
   "language": "python",
   "name": "python3"
  },
  "language_info": {
   "codemirror_mode": {
    "name": "ipython",
    "version": 3
   },
   "file_extension": ".py",
   "mimetype": "text/x-python",
   "name": "python",
   "nbconvert_exporter": "python",
   "pygments_lexer": "ipython3",
   "version": "3.6.5"
  }
 },
 "nbformat": 4,
 "nbformat_minor": 2
}
