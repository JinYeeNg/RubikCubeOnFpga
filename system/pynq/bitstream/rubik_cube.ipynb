{
 "cells": [
  {
   "cell_type": "code",
   "execution_count": 2,
   "metadata": {},
   "outputs": [
    {
     "data": {
      "application/javascript": [
       "\n",
       "require(['notebook/js/codecell'], function(codecell) {\n",
       "  codecell.CodeCell.options_default.highlight_modes[\n",
       "      'magic_text/x-csrc'] = {'reg':[/^%%microblaze/]};\n",
       "  Jupyter.notebook.events.one('kernel_ready.Kernel', function(){\n",
       "      Jupyter.notebook.get_cells().map(function(cell){\n",
       "          if (cell.cell_type == 'code'){ cell.auto_highlight(); } }) ;\n",
       "  });\n",
       "});\n"
      ]
     },
     "metadata": {},
     "output_type": "display_data"
    }
   ],
   "source": [
    "from pynq import Overlay\n",
    "from pynq import MMIO\n",
    "\n",
    "ol=Overlay(\"layerAll.bit\")\n",
    "#ol.download()"
   ]
  },
  {
   "cell_type": "code",
   "execution_count": 3,
   "metadata": {},
   "outputs": [
    {
     "name": "stdout",
     "output_type": "stream",
     "text": [
      "0x43c00000\n"
     ]
    }
   ],
   "source": [
    "ol.ip_dict\n",
    "print(hex(ol.ip_dict['solveCube_0']['phys_addr']))"
   ]
  },
  {
   "cell_type": "code",
   "execution_count": 4,
   "metadata": {},
   "outputs": [
    {
     "name": "stdout",
     "output_type": "stream",
     "text": [
      "4\n"
     ]
    }
   ],
   "source": [
    "add_ip=MMIO(0x43C00000,0x10000)\n",
    "print(add_ip.read(0x000))"
   ]
  },
  {
   "cell_type": "code",
   "execution_count": 6,
   "metadata": {},
   "outputs": [],
   "source": [
    "add_ip.write(0x000,1)"
   ]
  },
  {
   "cell_type": "code",
   "execution_count": 7,
   "metadata": {},
   "outputs": [],
   "source": [
    "order= int(add_ip.read(0x200))\n",
    "moves= []\n",
    "\n",
    "def assign(mNum):\n",
    "    if(mNum==0):\n",
    "        moves.append(\"U\")\n",
    "    elif(mNum==1):\n",
    "        moves.append(\"U'\")\n",
    "    elif(mNum==2):\n",
    "        moves.append(\"D\")\n",
    "    elif(mNum==3):\n",
    "        moves.append(\"D'\")\n",
    "    elif(mNum==4):\n",
    "        moves.append(\"B\")\n",
    "    elif(mNum==5):\n",
    "        moves.append(\"B'\")\n",
    "    elif(mNum==6):\n",
    "        moves.append(\"F\")\n",
    "    elif(mNum==7):\n",
    "        moves.append(\"F'\")\n",
    "    elif(mNum==8):\n",
    "        moves.append(\"L\")\n",
    "    elif(mNum==9):\n",
    "        moves.append(\"L'\")\n",
    "    elif(mNum==10):\n",
    "        moves.append(\"R\")\n",
    "    elif(mNum==11):\n",
    "        moves.append(\"R'\")\n",
    "    elif(mNum==12):\n",
    "        moves.append(\"H\")\n",
    "    elif(mNum==13):\n",
    "        moves.append(\"V\")\n",
    "    elif(mNum==14):\n",
    "        moves.append(\"H'\")\n",
    "    elif(mNum==15):\n",
    "        moves.append(\"V'\")\n",
    "    else:\n",
    "        print(\"error\")\n",
    "\n",
    "def bytes(num):\n",
    "    assign(int(hex(num& 0xff),16)) \n",
    "    assign(int(hex(num >>8 & 0xff),16))\n",
    "    assign(int(hex(num >> 16 & 0xff),16))\n",
    "    assign(int(hex(num >> 24& 0xff),16))\n",
    "\n",
    "base_address= 0x100\n",
    "i =0\n",
    "j=0\n",
    "while( i<order):\n",
    "    \n",
    "    data = add_ip.read(int(base_address)+j*4)\n",
    "    bytes(data)\n",
    "    j=j+1\n",
    "    i=i+4\n"
   ]
  },
  {
   "cell_type": "code",
   "execution_count": 8,
   "metadata": {},
   "outputs": [
    {
     "name": "stdout",
     "output_type": "stream",
     "text": [
      "165\n",
      "[\"F'\", 'D', 'R', 'R', 'F', \"R'\", 'U', \"F'\", \"U'\", 'H', 'R', 'R', 'H', 'B', 'B', \"D'\", 'R', 'R', 'H', 'D', 'D', 'R', 'R', \"R'\", \"D'\", 'R', 'H', 'D', 'D', \"R'\", \"D'\", 'R', 'D', \"R'\", \"D'\", 'R', 'D', \"R'\", \"D'\", 'R', 'D', 'H', 'H', 'H', \"R'\", \"D'\", 'R', 'H', 'H', \"D'\", \"R'\", \"D'\", 'R', 'D', \"R'\", \"D'\", 'R', 'D', \"R'\", \"D'\", 'R', 'D', 'H', \"R'\", \"D'\", 'R', 'D', 'H', \"D'\", \"R'\", \"D'\", 'R', 'D', 'H', 'V', 'V', 'H', \"U'\", \"L'\", 'U', 'L', 'U', 'F', \"U'\", \"F'\", 'H', \"U'\", \"U'\", \"L'\", 'U', 'L', 'U', 'F', \"U'\", \"F'\", 'H', 'U', \"L'\", 'U', 'L', 'U', 'F', \"U'\", \"F'\", 'H', \"L'\", 'U', 'L', 'U', 'F', \"U'\", \"F'\", 'H', 'F', 'R', 'U', \"R'\", \"U'\", \"F'\", 'R', 'U', \"R'\", 'U', 'R', 'U', 'U', \"R'\", \"R'\", 'F', \"R'\", 'B', 'B', 'R', \"F'\", \"R'\", 'B', 'B', 'R', 'R', 'H', \"R'\", 'F', \"R'\", 'B', 'B', 'R', \"F'\", \"R'\", 'B', 'B', 'R', 'R', \"U'\", 'F', 'F', \"U'\", 'L', \"R'\", 'F', 'F', \"L'\", 'R', \"U'\", 'F', 'F', 'U', 'U', 'U']\n"
     ]
    }
   ],
   "source": [
    "order= int(add_ip.read(0x200))\n",
    "print(order)\n",
    "\n",
    "print(moves)\n",
    "F' D R R F R' U F' U' H R R \n",
    "H B B D' R R H D D R R R' \n",
    "D' R H D D R' D' R D R' \n",
    "D' R D R' D' R D H H H R' D' R H\n",
    "H D' R' D' R D R' D' R D R' D'\n",
    "R D H R' D' R D H D' R' D' R\n",
    "D H V V H U' L' U L U F U'\n",
    "F' H U' U' L' U L U F U' F' H\n",
    "U L' U L U F U' F' H L' U L\n",
    "U F U' F' H F R U R' U' F' R\n",
    "U R' U R U U R' R' F R' B B\n",
    "R F' R' B B R R H R' F R' B\n",
    "B R F' R' B B R R U' F F U'\n",
    "L R' F F L' R U' F F"
   ]
  },
  {
   "cell_type": "code",
   "execution_count": 5,
   "metadata": {},
   "outputs": [
    {
     "name": "stdout",
     "output_type": "stream",
     "text": [
      "0 0 0 0 0 0 0 0 0 0 0 0 0 0\n",
      "67437827 512 196866 16777473 16975104 67240196 33686273 50332676 50660610 50659841 50595076 65539 67372293 514\n"
     ]
    }
   ],
   "source": [
    "a=add_ip.read(0x040)\n",
    "b=add_ip.read(0x044)\n",
    "c=add_ip.read(0x048)\n",
    "d=add_ip.read(0x04c)\n",
    "e=add_ip.read(0x050)\n",
    "f=add_ip.read(0x054)\n",
    "g=add_ip.read(0x058)\n",
    "h=add_ip.read(0x05c)\n",
    "i=add_ip.read(0x060)\n",
    "j=add_ip.read(0x064)\n",
    "k=add_ip.read(0x068)\n",
    "l=add_ip.read(0x06c)\n",
    "m=add_ip.read(0x070)\n",
    "n=add_ip.read(0x074)\n",
    "print(a ,b ,c ,d, e, f, g, h, i ,j ,k, l, m , n)\n",
    "add_ip.write(0x040,67437827)\n",
    "add_ip.write(0x044,512)\n",
    "add_ip.write(0x048,196866)\n",
    "add_ip.write(0x04c,16777473)\n",
    "add_ip.write(0x050,16975104)\n",
    "add_ip.write(0x054,67240196)\n",
    "add_ip.write(0x058,33686273)\n",
    "add_ip.write(0x05c,50332676)\n",
    "add_ip.write(0x060,50660610)\n",
    "add_ip.write(0x064,50659841)\n",
    "add_ip.write(0x068,50595076)\n",
    "add_ip.write(0x06c,65539)\n",
    "add_ip.write(0x070,67372293)\n",
    "add_ip.write(0x074,514)\n",
    "\n",
    "a=add_ip.read(0x040)\n",
    "b=add_ip.read(0x044)\n",
    "c=add_ip.read(0x048)\n",
    "d=add_ip.read(0x04c)\n",
    "e=add_ip.read(0x050)\n",
    "f=add_ip.read(0x054)\n",
    "g=add_ip.read(0x058)\n",
    "h=add_ip.read(0x05c)\n",
    "i=add_ip.read(0x060)\n",
    "j=add_ip.read(0x064)\n",
    "k=add_ip.read(0x068)\n",
    "l=add_ip.read(0x06c)\n",
    "m=add_ip.read(0x070)\n",
    "n=add_ip.read(0x074)\n",
    "print(a ,b ,c ,d, e, f, g, h, i ,j ,k, l, m , n)\n"
   ]
  },
  {
   "cell_type": "code",
   "execution_count": 9,
   "metadata": {},
   "outputs": [
    {
     "name": "stdout",
     "output_type": "stream",
     "text": [
      "hello\n",
      "165\n"
     ]
    }
   ],
   "source": [
    "print(\"hello\")\n",
    "print(order)"
   ]
  },
  {
   "cell_type": "code",
   "execution_count": 13,
   "metadata": {},
   "outputs": [],
   "source": [
    "list= [\"F'\", \"D\", \"R\", \"R\", \"F\", \"R'\", \"U\", \"F'\", \"U'\", \"H\", \"R\", \"R\",\n",
    "\"H\", \"B\", \"B\", \"D'\", \"R\", \"R\", \"H\", \"D\", \"D\", \"R\", \"R\", \"R'\", \n",
    "\"D'\", \"R\", \"H\", \"D\", \"D\", \"R'\", \"D'\", \"R\", \"D\", \"R'\", \n",
    "\"D'\", \"R\", \"D\", \"R'\", \"D'\", \"R\", \"D\", \"H\", \"H\", \"H\", \"R'\", \"D'\", \"R\", \"H\",\n",
    "\"H\", \"D'\", \"R'\", \"D'\", \"R\", \"D\", \"R'\", \"D'\", \"R\", \"D\", \"R'\", \"D'\",\n",
    "\"R\", \"D\", \"H\", \"R'\", \"D'\", \"R\", \"D\", \"H\", \"D'\", \"R'\", \"D'\", \"R\",\n",
    "\"D\", \"H\", \"V\", \"V\", \"H\", \"U'\", \"L'\", \"U\", \"L\", \"U\", \"F\", \"U'\",\n",
    "\"F'\", \"H\", \"U'\", \"U'\", \"L'\", \"U\", \"L\", \"U\", \"F\", \"U'\", \"F'\", \"H\",\n",
    "\"U\", \"L'\", \"U\", \"L\", \"U\", \"F\", \"U'\", \"F'\", \"H\", \"L'\", \"U\", \"L\",\n",
    "\"U\", \"F\", \"U'\", \"F'\", \"H\", \"F\", \"R\", \"U\", \"R'\", \"U'\", \"F'\", \"R\",\n",
    "\"U\", \"R'\", \"U\", \"R\", \"U\", \"U\", \"R'\", \"R'\", \"F\", \"R'\", \"B\", \"B\",\n",
    "\"R\", \"F'\", \"R'\", \"B\", \"B\", \"R\", \"R\", \"H\", \"R'\", \"F\", \"R'\", \"B\",\n",
    "\"B\", \"R\", \"F'\", \"R'\", \"B\", \"B\", \"R\", \"R\", \"U'\", \"F\", \"F\", \"U'\",\n",
    "\"L\", \"R'\", \"F\", \"F\", \"L'\", \"R\", \"U'\", \"F\", \"F\"]"
   ]
  },
  {
   "cell_type": "code",
   "execution_count": 14,
   "metadata": {},
   "outputs": [
    {
     "name": "stdout",
     "output_type": "stream",
     "text": [
      "[\"F'\", 'D', 'R', 'R', 'F', \"R'\", 'U', \"F'\", \"U'\", 'H', 'R', 'R', 'H', 'B', 'B', \"D'\", 'R', 'R', 'H', 'D', 'D', 'R', 'R', \"R'\", \"D'\", 'R', 'H', 'D', 'D', \"R'\", \"D'\", 'R', 'D', \"R'\", \"D'\", 'R', 'D', \"R'\", \"D'\", 'R', 'D', 'H', 'H', 'H', \"R'\", \"D'\", 'R', 'H', 'H', \"D'\", \"R'\", \"D'\", 'R', 'D', \"R'\", \"D'\", 'R', 'D', \"R'\", \"D'\", 'R', 'D', 'H', \"R'\", \"D'\", 'R', 'D', 'H', \"D'\", \"R'\", \"D'\", 'R', 'D', 'H', 'V', 'V', 'H', \"U'\", \"L'\", 'U', 'L', 'U', 'F', \"U'\", \"F'\", 'H', \"U'\", \"U'\", \"L'\", 'U', 'L', 'U', 'F', \"U'\", \"F'\", 'H', 'U', \"L'\", 'U', 'L', 'U', 'F', \"U'\", \"F'\", 'H', \"L'\", 'U', 'L', 'U', 'F', \"U'\", \"F'\", 'H', 'F', 'R', 'U', \"R'\", \"U'\", \"F'\", 'R', 'U', \"R'\", 'U', 'R', 'U', 'U', \"R'\", \"R'\", 'F', \"R'\", 'B', 'B', 'R', \"F'\", \"R'\", 'B', 'B', 'R', 'R', 'H', \"R'\", 'F', \"R'\", 'B', 'B', 'R', \"F'\", \"R'\", 'B', 'B', 'R', 'R', \"U'\", 'F', 'F', \"U'\", 'L', \"R'\", 'F', 'F', \"L'\", 'R', \"U'\", 'F', 'F']\n"
     ]
    }
   ],
   "source": [
    "\n",
    "print(list)"
   ]
  },
  {
   "cell_type": "code",
   "execution_count": 6,
   "metadata": {},
   "outputs": [
    {
     "ename": "OSError",
     "evalue": "Bitstream file ./bitstream/axi_gpio.bit does not exist.",
     "output_type": "error",
     "traceback": [
      "\u001b[0;31m---------------------------------------------------------------------------\u001b[0m",
      "\u001b[0;31mOSError\u001b[0m                                   Traceback (most recent call last)",
      "\u001b[0;32m<ipython-input-6-98e46d46b4c4>\u001b[0m in \u001b[0;36m<module>\u001b[0;34m()\u001b[0m\n\u001b[1;32m      1\u001b[0m \u001b[0;32mfrom\u001b[0m \u001b[0mpynq\u001b[0m \u001b[0;32mimport\u001b[0m \u001b[0mOverlay\u001b[0m\u001b[0;34m\u001b[0m\u001b[0m\n\u001b[0;32m----> 2\u001b[0;31m \u001b[0maxi_gpio_design\u001b[0m \u001b[0;34m=\u001b[0m \u001b[0mOverlay\u001b[0m\u001b[0;34m(\u001b[0m\u001b[0;34m\"./bitstream/axi_gpio.bit\"\u001b[0m\u001b[0;34m)\u001b[0m\u001b[0;34m\u001b[0m\u001b[0m\n\u001b[0m",
      "\u001b[0;32m/opt/python3.6/lib/python3.6/site-packages/pynq/overlay.py\u001b[0m in \u001b[0;36m__init__\u001b[0;34m(self, bitfile_name, download, ignore_version)\u001b[0m\n\u001b[1;32m    288\u001b[0m         \u001b[0;31m# class construction interacts with super. Subclasses of\u001b[0m\u001b[0;34m\u001b[0m\u001b[0;34m\u001b[0m\u001b[0m\n\u001b[1;32m    289\u001b[0m         \u001b[0;31m# Overlay work correctly however.\u001b[0m\u001b[0;34m\u001b[0m\u001b[0;34m\u001b[0m\u001b[0m\n\u001b[0;32m--> 290\u001b[0;31m         \u001b[0mBitstream\u001b[0m\u001b[0;34m.\u001b[0m\u001b[0m__init__\u001b[0m\u001b[0;34m(\u001b[0m\u001b[0mself\u001b[0m\u001b[0;34m,\u001b[0m \u001b[0mbitfile_name\u001b[0m\u001b[0;34m)\u001b[0m\u001b[0;34m\u001b[0m\u001b[0m\n\u001b[0m\u001b[1;32m    291\u001b[0m \u001b[0;34m\u001b[0m\u001b[0m\n\u001b[1;32m    292\u001b[0m         \u001b[0mtcl\u001b[0m \u001b[0;34m=\u001b[0m \u001b[0m_TCL\u001b[0m\u001b[0;34m(\u001b[0m\u001b[0m_get_tcl_name\u001b[0m\u001b[0;34m(\u001b[0m\u001b[0mself\u001b[0m\u001b[0;34m.\u001b[0m\u001b[0mbitfile_name\u001b[0m\u001b[0;34m)\u001b[0m\u001b[0;34m)\u001b[0m\u001b[0;34m\u001b[0m\u001b[0m\n",
      "\u001b[0;32m/opt/python3.6/lib/python3.6/site-packages/pynq/pl.py\u001b[0m in \u001b[0;36m__init__\u001b[0;34m(self, bitfile_name)\u001b[0m\n\u001b[1;32m    894\u001b[0m         \u001b[0;32melse\u001b[0m\u001b[0;34m:\u001b[0m\u001b[0;34m\u001b[0m\u001b[0m\n\u001b[1;32m    895\u001b[0m             raise IOError('Bitstream file {} does not exist.'\n\u001b[0;32m--> 896\u001b[0;31m                           .format(bitfile_name))\n\u001b[0m\u001b[1;32m    897\u001b[0m \u001b[0;34m\u001b[0m\u001b[0m\n\u001b[1;32m    898\u001b[0m         \u001b[0mself\u001b[0m\u001b[0;34m.\u001b[0m\u001b[0mtimestamp\u001b[0m \u001b[0;34m=\u001b[0m \u001b[0;34m''\u001b[0m\u001b[0;34m\u001b[0m\u001b[0m\n",
      "\u001b[0;31mOSError\u001b[0m: Bitstream file ./bitstream/axi_gpio.bit does not exist."
     ]
    }
   ],
   "source": [
    "from pynq import Overlay\n",
    "axi_gpio_design = Overlay(\"./bitstream/axi_gpio.bit\")"
   ]
  },
  {
   "cell_type": "code",
   "execution_count": 9,
   "metadata": {},
   "outputs": [],
   "source": [
    "from pynq import Overlay\n",
    "axi_gpio_design = Overlay(\"./axi_gpio.bit\")"
   ]
  },
  {
   "cell_type": "code",
   "execution_count": 10,
   "metadata": {},
   "outputs": [
    {
     "data": {
      "text/plain": [
       "{'buttons': {'addr_range': 65536,\n",
       "  'driver': pynq.lib.axigpio.AxiGPIO,\n",
       "  'fullpath': 'buttons',\n",
       "  'gpio': {},\n",
       "  'interrupts': {},\n",
       "  'phys_addr': 1092681728,\n",
       "  'state': None,\n",
       "  'type': 'xilinx.com:ip:axi_gpio:2.0'},\n",
       " 'leds': {'addr_range': 65536,\n",
       "  'driver': pynq.lib.axigpio.AxiGPIO,\n",
       "  'fullpath': 'leds',\n",
       "  'gpio': {},\n",
       "  'interrupts': {},\n",
       "  'phys_addr': 1092616192,\n",
       "  'state': None,\n",
       "  'type': 'xilinx.com:ip:axi_gpio:2.0'},\n",
       " 'switches': {'addr_range': 65536,\n",
       "  'driver': pynq.lib.axigpio.AxiGPIO,\n",
       "  'fullpath': 'switches',\n",
       "  'gpio': {},\n",
       "  'interrupts': {},\n",
       "  'phys_addr': 1092747264,\n",
       "  'state': None,\n",
       "  'type': 'xilinx.com:ip:axi_gpio:2.0'}}"
      ]
     },
     "execution_count": 10,
     "metadata": {},
     "output_type": "execute_result"
    }
   ],
   "source": [
    "axi_gpio_design.ip_dict"
   ]
  },
  {
   "cell_type": "code",
   "execution_count": 11,
   "metadata": {},
   "outputs": [
    {
     "name": "stdout",
     "output_type": "stream",
     "text": [
      "Physical address of button: 0x41210000\n",
      "Physical address of button: 0x41220000\n",
      "Physical address of button: 0x41200000\n"
     ]
    }
   ],
   "source": [
    "\n",
    "buttons_address = axi_gpio_design.ip_dict['buttons']['phys_addr']\n",
    "switches_address = axi_gpio_design.ip_dict['switches']['phys_addr']\n",
    "leds_address = axi_gpio_design.ip_dict['leds']['phys_addr']\n",
    "\n",
    "print(\"Physical address of button: 0x\" + format(buttons_address, '02x'))\n",
    "print(\"Physical address of button: 0x\" + format(switches_address, '02x'))\n",
    "print(\"Physical address of button: 0x\" + format(leds_address, '02x'))"
   ]
  },
  {
   "cell_type": "code",
   "execution_count": 12,
   "metadata": {},
   "outputs": [],
   "source": [
    "from pynq import MMIO\n",
    "RANGE = 8 # Number of bytes; 8/4 = 2x 32-bit locations which is all we need for this example\n",
    "buttons = MMIO(buttons_address, RANGE)"
   ]
  },
  {
   "cell_type": "code",
   "execution_count": 13,
   "metadata": {},
   "outputs": [],
   "source": [
    "buttons.write(0x4, 0xffffffff)"
   ]
  },
  {
   "cell_type": "code",
   "execution_count": 16,
   "metadata": {},
   "outputs": [
    {
     "name": "stdout",
     "output_type": "stream",
     "text": [
      "Push-buttons: 2\n"
     ]
    }
   ],
   "source": [
    "print(f\"Push-buttons: {buttons.read()}\")"
   ]
  },
  {
   "cell_type": "code",
   "execution_count": null,
   "metadata": {},
   "outputs": [],
   "source": []
  }
 ],
 "metadata": {
  "kernelspec": {
   "display_name": "Python 3",
   "language": "python",
   "name": "python3"
  },
  "language_info": {
   "codemirror_mode": {
    "name": "ipython",
    "version": 3
   },
   "file_extension": ".py",
   "mimetype": "text/x-python",
   "name": "python",
   "nbconvert_exporter": "python",
   "pygments_lexer": "ipython3",
   "version": "3.6.8"
  }
 },
 "nbformat": 4,
 "nbformat_minor": 2
}
