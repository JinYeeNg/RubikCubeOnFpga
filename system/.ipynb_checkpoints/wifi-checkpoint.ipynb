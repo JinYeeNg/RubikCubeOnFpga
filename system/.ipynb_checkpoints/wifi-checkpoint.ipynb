{
 "cells": [
  {
   "cell_type": "markdown",
   "metadata": {
    "hide_input": false
   },
   "source": [
    "# Wifi Example\n",
    "\n",
    "In this notebook, we show how to connect to a WiFi network.\n",
    "\n",
    "For boards equipped with a USB interface, a WiFi dongle can be plugged \n",
    "into the board. Specifically a RALink WiFi dongle commonly used with \n",
    "Raspberry Pi kits is connected into the board. Using Linux calls and \n",
    "Python functions, we will determine the unique name of the dongle and \n",
    "then create a network entry for a known ssid/password pair.\n",
    "\n",
    "For boards equipped with onboard WiFi module, we can follow the same\n",
    "process as well.\n",
    "\n",
    "References:\n",
    "http://www.canakit.com/raspberry-pi-wifi.html\n",
    "\n",
    "### 1. Create WiFi instance\n",
    "Make sure:\n",
    "1. The USB WiFi module has been plugged in, or \n",
    "2. There is already an embedded WiFi module on board."
   ]
  },
  {
   "cell_type": "code",
   "execution_count": 1,
   "metadata": {},
   "outputs": [
    {
     "data": {
      "application/javascript": [
       "\n",
       "require(['notebook/js/codecell'], function(codecell) {\n",
       "  codecell.CodeCell.options_default.highlight_modes[\n",
       "      'magic_text/x-csrc'] = {'reg':[/^%%microblaze/]};\n",
       "  Jupyter.notebook.events.one('kernel_ready.Kernel', function(){\n",
       "      Jupyter.notebook.get_cells().map(function(cell){\n",
       "          if (cell.cell_type == 'code'){ cell.auto_highlight(); } }) ;\n",
       "  });\n",
       "});\n"
      ]
     },
     "metadata": {},
     "output_type": "display_data"
    }
   ],
   "source": [
    "from pynq.lib import Wifi\n",
    "\n",
    "port = Wifi()"
   ]
  },
  {
   "cell_type": "markdown",
   "metadata": {},
   "source": [
    "### 2. Connect to a WIFI link\n",
    "Type in the SSID and password as instructed. It may take a while to establish the connection."
   ]
  },
  {
   "cell_type": "code",
   "execution_count": 2,
   "metadata": {
    "hide_input": false
   },
   "outputs": [
    {
     "name": "stdout",
     "output_type": "stream",
     "text": [
      "Type in the SSID:POCOPHONE\n",
      "Type in the password:Abc0174529965#\n"
     ]
    }
   ],
   "source": [
    "ssid = input(\"Type in the SSID:\")\n",
    "pwd = input(\"Type in the password:\")\n",
    "port.connect(ssid, pwd)"
   ]
  },
  {
   "cell_type": "markdown",
   "metadata": {},
   "source": [
    "### 3. Test connection\n",
    "Ping 10 packets, then the following cell stops automatically. Notice there\n",
    "are only a few websites that accept `ping`.\n",
    "\n",
    "The following cell assumes the default wireless interface `wlan0`."
   ]
  },
  {
   "cell_type": "code",
   "execution_count": 4,
   "metadata": {},
   "outputs": [
    {
     "name": "stdout",
     "output_type": "stream",
     "text": [
      "PING atsv2-fp-shed.wg1.b.yahoo.com (87.248.98.8) from 192.168.43.47 wlan0: 56(84) bytes of data.\n",
      "64 bytes from media-router-fp2.prod1.media.vip.ir2.yahoo.com (87.248.98.8): icmp_seq=1 ttl=47 time=18.7 ms\n",
      "64 bytes from media-router-fp2.prod1.media.vip.ir2.yahoo.com (87.248.98.8): icmp_seq=3 ttl=47 time=23.6 ms\n",
      "64 bytes from media-router-fp2.prod1.media.vip.ir2.yahoo.com (87.248.98.8): icmp_seq=4 ttl=47 time=22.4 ms\n",
      "64 bytes from media-router-fp2.prod1.media.vip.ir2.yahoo.com (87.248.98.8): icmp_seq=5 ttl=47 time=45.0 ms\n",
      "64 bytes from media-router-fp2.prod1.media.vip.ir2.yahoo.com (87.248.98.8): icmp_seq=6 ttl=47 time=24.1 ms\n",
      "64 bytes from media-router-fp2.prod1.media.vip.ir2.yahoo.com (87.248.98.8): icmp_seq=7 ttl=47 time=18.8 ms\n",
      "64 bytes from media-router-fp2.prod1.media.vip.ir2.yahoo.com (87.248.98.8): icmp_seq=8 ttl=47 time=23.4 ms\n",
      "64 bytes from media-router-fp2.prod1.media.vip.ir2.yahoo.com (87.248.98.8): icmp_seq=9 ttl=47 time=26.7 ms\n",
      "64 bytes from media-router-fp2.prod1.media.vip.ir2.yahoo.com (87.248.98.8): icmp_seq=10 ttl=47 time=22.2 ms\n",
      "\n",
      "--- atsv2-fp-shed.wg1.b.yahoo.com ping statistics ---\n",
      "10 packets transmitted, 9 received, 10% packet loss, time 13100ms\n",
      "rtt min/avg/max/mdev = 18.702/25.045/45.051/7.467 ms\n"
     ]
    }
   ],
   "source": [
    "! ping -I wlan0 www.yahoo.com -c 10"
   ]
  },
  {
   "cell_type": "code",
   "execution_count": null,
   "metadata": {},
   "outputs": [
    {
     "name": "stdout",
     "output_type": "stream",
     "text": [
      "Reading package lists... Done\n",
      "Building dependency tree       \n",
      "Reading state information... Done\n",
      "The following additional packages will be installed:\n",
      "  libmosquitto1\n",
      "The following NEW packages will be installed:\n",
      "  libmosquitto1 mosquitto-clients\n",
      "0 upgraded, 2 newly installed, 0 to remove and 333 not upgraded.\n",
      "Need to get 56.1 kB of archives.\n",
      "After this operation, 208 kB of additional disk space will be used.\n",
      "Do you want to continue? [Y/n] "
     ]
    }
   ],
   "source": [
    "! sudo apt-get install mosquitto-clients"
   ]
  },
  {
   "cell_type": "markdown",
   "metadata": {},
   "source": [
    "### 4. Reset connection"
   ]
  },
  {
   "cell_type": "code",
   "execution_count": 4,
   "metadata": {},
   "outputs": [],
   "source": [
    "port.reset()"
   ]
  }
 ],
 "metadata": {
  "kernelspec": {
   "display_name": "Python 3",
   "language": "python",
   "name": "python3"
  },
  "language_info": {
   "codemirror_mode": {
    "name": "ipython",
    "version": 3
   },
   "file_extension": ".py",
   "mimetype": "text/x-python",
   "name": "python",
   "nbconvert_exporter": "python",
   "pygments_lexer": "ipython3",
   "version": "3.6.5"
  }
 },
 "nbformat": 4,
 "nbformat_minor": 1
}
